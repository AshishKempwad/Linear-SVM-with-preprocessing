{
 "cells": [
  {
   "cell_type": "markdown",
   "metadata": {},
   "source": [
    "# SVM using Scikit-Learn"
   ]
  },
  {
   "cell_type": "markdown",
   "metadata": {},
   "source": [
    "The SVM algorithm is implemented in practice using a kernel. A kernel transforms an input data space into the required form. SVM uses a technique called the kernel trick. Here, the kernel takes a low-dimensional input space and transforms it into a higher dimensional space. In other words, you can say that it converts nonseparable problem to separable problems by adding more dimension to it. It is most useful in non-linear separation problem. Kernel trick helps you to build a more accurate classifier.\n",
    "\n",
    "Linear Kernel: A linear kernel can be used as normal dot product any two given observations. The product between two vectors is the sum of the multiplication of each pair of input values.\n"
   ]
  },
  {
   "cell_type": "code",
   "execution_count": 22,
   "metadata": {},
   "outputs": [],
   "source": [
    "import numpy as np\n",
    "import pandas as pd\n",
    "from matplotlib import pyplot as plt\n",
    "import pickle\n",
    "from sklearn.decomposition import PCA\n",
    "from sklearn import linear_model\n",
    "from sklearn.metrics import accuracy_score\n",
    "from sklearn.metrics import confusion_matrix \n",
    "from sklearn.metrics import classification_report as cr\n"
   ]
  },
  {
   "cell_type": "code",
   "execution_count": 2,
   "metadata": {},
   "outputs": [],
   "source": [
    "def unpickle(file):\n",
    "    import pickle\n",
    "    with open(file, 'rb') as fo:\n",
    "        dict = pickle.load(fo, encoding='bytes')\n",
    "    return dict\n"
   ]
  },
  {
   "cell_type": "code",
   "execution_count": 3,
   "metadata": {},
   "outputs": [],
   "source": [
    "# We unpickle all the batch files given using unpickle function\n",
    "dict1=unpickle('data_batch_1')\n",
    "dict2=unpickle('data_batch_2')\n",
    "dict3=unpickle('data_batch_3')\n",
    "dict4=unpickle('data_batch_4')\n",
    "dict5=unpickle('data_batch_5')\n",
    "# dict1\n"
   ]
  },
  {
   "cell_type": "code",
   "execution_count": 4,
   "metadata": {},
   "outputs": [
    {
     "name": "stdout",
     "output_type": "stream",
     "text": [
      "(50000, 3072)\n"
     ]
    }
   ],
   "source": [
    "#Append all the data into list 'x1'\n",
    "x1=dict1[b'data']\n",
    "x1=np.append(x1,dict2[b'data'],axis=0)\n",
    "x1=np.append(x1,dict3[b'data'],axis=0)\n",
    "x1=np.append(x1,dict4[b'data'],axis=0)\n",
    "x1=np.append(x1,dict5[b'data'],axis=0)                     \n",
    "print(x1.shape)\n"
   ]
  },
  {
   "cell_type": "code",
   "execution_count": 5,
   "metadata": {},
   "outputs": [
    {
     "name": "stdout",
     "output_type": "stream",
     "text": [
      "(50000,)\n"
     ]
    }
   ],
   "source": [
    "#Append all the label data into the list 'y1'\n",
    "y1=dict1[b'labels']\n",
    "y1=np.append(y1,dict2[b'labels'],axis=0)\n",
    "y1=np.append(y1,dict3[b'labels'],axis=0)\n",
    "y1=np.append(y1,dict4[b'labels'],axis=0)\n",
    "y1=np.append(y1,dict5[b'labels'],axis=0)\n",
    "\n",
    "print(y1.shape)\n"
   ]
  },
  {
   "cell_type": "code",
   "execution_count": 6,
   "metadata": {},
   "outputs": [],
   "source": [
    "from sklearn.model_selection import train_test_split\n"
   ]
  },
  {
   "cell_type": "code",
   "execution_count": 7,
   "metadata": {},
   "outputs": [],
   "source": [
    "X_train, X_test, y_train, y_test = train_test_split(x1,y1, test_size=0.3,random_state=109)"
   ]
  },
  {
   "cell_type": "code",
   "execution_count": 8,
   "metadata": {},
   "outputs": [
    {
     "data": {
      "text/plain": [
       "(15000, 3072)"
      ]
     },
     "execution_count": 8,
     "metadata": {},
     "output_type": "execute_result"
    }
   ],
   "source": [
    "X_test.shape"
   ]
  },
  {
   "cell_type": "code",
   "execution_count": 9,
   "metadata": {},
   "outputs": [
    {
     "data": {
      "text/plain": [
       "array([[244, 241, 241, ..., 245, 247, 248],\n",
       "       [100,  93,  87, ...,  37,  39,  47],\n",
       "       [118, 125, 117, ..., 129, 145, 147],\n",
       "       ...,\n",
       "       [237, 235, 236, ..., 241, 241, 242],\n",
       "       [ 36,  22,  40, ...,  71,  89,  83],\n",
       "       [215, 212, 212, ..., 192, 192, 198]], dtype=uint8)"
      ]
     },
     "execution_count": 9,
     "metadata": {},
     "output_type": "execute_result"
    }
   ],
   "source": [
    "X_train"
   ]
  },
  {
   "cell_type": "markdown",
   "metadata": {},
   "source": [
    "# We train our training data on various values of C and alpha and then test it on our validation set"
   ]
  },
  {
   "cell_type": "code",
   "execution_count": 10,
   "metadata": {},
   "outputs": [],
   "source": [
    "alpha_value=[]\n",
    "# Various c values.. alpha =len(training_data)(no if samples)/c\n",
    "Diff_values_of_C = [0.0001,0.2,1,1.5,7.5,10,55]\n",
    "for i in Diff_values_of_C:\n",
    "    alpha_value.append(len(X_train)/i)"
   ]
  },
  {
   "cell_type": "code",
   "execution_count": 16,
   "metadata": {},
   "outputs": [],
   "source": [
    "def better_C_value(X_train,y_train,X_test,y_test,alpha_value):\n",
    "    better_accuracy=[]\n",
    "    for i in alpha_value:\n",
    "        clf = linear_model.SGDClassifier(max_iter=1000, tol=1e-3,alpha=i)\n",
    "        clf.fit(X_train,y_train)\n",
    "        y_pred=clf.predict(X_test)\n",
    "        acc_s=accuracy_score(y_pred,y_test)\n",
    "        better_accuracy.append(acc_s)\n",
    "    return better_accuracy"
   ]
  },
  {
   "cell_type": "code",
   "execution_count": 17,
   "metadata": {},
   "outputs": [
    {
     "name": "stdout",
     "output_type": "stream",
     "text": [
      "[0.1002, 0.3328, 0.37046666666666667, 0.3666, 0.372, 0.3900666666666667, 0.26213333333333333]\n"
     ]
    }
   ],
   "source": [
    "\n",
    "better_accuracy=better_C_value(X_train,y_train,X_test,y_test,alpha_value)\n",
    "print(better_accuracy)"
   ]
  },
  {
   "cell_type": "markdown",
   "metadata": {},
   "source": [
    "# Now considering the best value of alpha we run our SVM algorithm on our test data to find the accuracy. As we find the best accuracy when c=10, we will run our test data on C=10 with coressponding value of alpha. We also see that if we further increase the value of C, accuracy goes down as it falls in trap of overfitting!"
   ]
  },
  {
   "cell_type": "code",
   "execution_count": 18,
   "metadata": {},
   "outputs": [],
   "source": [
    "test_data_dict=unpickle('test_batch')"
   ]
  },
  {
   "cell_type": "code",
   "execution_count": 19,
   "metadata": {},
   "outputs": [],
   "source": [
    "final_test_data=test_data_dict[b'data']\n",
    "final_test_label=test_data_dict[b'labels']"
   ]
  },
  {
   "cell_type": "markdown",
   "metadata": {},
   "source": [
    "# Accuracy on test data"
   ]
  },
  {
   "cell_type": "code",
   "execution_count": 20,
   "metadata": {},
   "outputs": [
    {
     "name": "stdout",
     "output_type": "stream",
     "text": [
      "0.387\n"
     ]
    }
   ],
   "source": [
    "clf = linear_model.SGDClassifier(max_iter=180,tol=1e-3,alpha=len(X_train)/10)\n",
    "clf.fit(X_train,y_train)\n",
    "y_pred2=clf.predict(final_test_data)\n",
    "print(accuracy_score(y_pred2,final_test_label))"
   ]
  },
  {
   "cell_type": "markdown",
   "metadata": {},
   "source": [
    "# Confusion Matrix"
   ]
  },
  {
   "cell_type": "code",
   "execution_count": 23,
   "metadata": {},
   "outputs": [
    {
     "name": "stdout",
     "output_type": "stream",
     "text": [
      "The Confusion Matrix for linear SVM with C=10\n"
     ]
    },
    {
     "data": {
      "image/png": "[encoded data removed]",
      "text/plain": [
       "<Figure size 432x288 with 2 Axes>"
      ]
     },
     "metadata": {
      "needs_background": "light"
     },
     "output_type": "display_data"
    }
   ],
   "source": [
    "print('The Confusion Matrix for linear SVM with C=10')\n",
    "import seaborn as sns\n",
    "import matplotlib.pyplot as plt     \n",
    "cm1=confusion_matrix(y_pred2,final_test_label)\n",
    "ax= plt.subplot()\n",
    "sns.heatmap(cm1, annot=True, ax = ax); "
   ]
  },
  {
   "cell_type": "markdown",
   "metadata": {},
   "source": [
    "# Classification Report"
   ]
  },
  {
   "cell_type": "code",
   "execution_count": 24,
   "metadata": {},
   "outputs": [
    {
     "name": "stdout",
     "output_type": "stream",
     "text": [
      "              precision    recall  f1-score   support\n",
      "\n",
      "           0       0.50      0.40      0.44      1241\n",
      "           1       0.48      0.47      0.48      1018\n",
      "           2       0.27      0.27      0.27       972\n",
      "           3       0.40      0.25      0.31      1597\n",
      "           4       0.27      0.38      0.31       715\n",
      "           5       0.12      0.50      0.19       242\n",
      "           6       0.33      0.48      0.39       684\n",
      "           7       0.46      0.45      0.46      1033\n",
      "           8       0.55      0.42      0.47      1303\n",
      "           9       0.49      0.41      0.45      1195\n",
      "\n",
      "    accuracy                           0.39     10000\n",
      "   macro avg       0.39      0.40      0.38     10000\n",
      "weighted avg       0.42      0.39      0.40     10000\n",
      "\n"
     ]
    }
   ],
   "source": [
    "print(cr(y_pred2 ,final_test_label))"
   ]
  },
  {
   "cell_type": "markdown",
   "metadata": {},
   "source": [
    "# Comparision with knn algorithm coded from scratch"
   ]
  },
  {
   "cell_type": "code",
   "execution_count": 26,
   "metadata": {},
   "outputs": [
    {
     "name": "stdout",
     "output_type": "stream",
     "text": [
      "0.3265\n"
     ]
    }
   ],
   "source": [
    "pixel=pd.DataFrame(X_train).to_numpy()\n",
    "label=pd.DataFrame(y_train).to_numpy()\n",
    "test_pixel=pd.DataFrame(X_test).to_numpy()\n",
    "test_label=pd.DataFrame(y_test).to_numpy()\n",
    "\n",
    "label_list=[]\n",
    "for i in range(len(final_test_label)):\n",
    "    lb=test_label[i]\n",
    "    label_list.append(lb)\n",
    "        \n",
    "    \n",
    "list2=[]\n",
    "for i in range(len(final_test_label)):\n",
    "    list1=[]\n",
    "    neighbors = []\n",
    "    m=test_pixel[i]\n",
    "    for j in range(len(X_train)):\n",
    "        l=pixel[j]\n",
    "        q=label[j]\n",
    "        distance = np.linalg.norm(l-m)\n",
    "        list1.append((q,distance))\n",
    "        \n",
    "    list1.sort(key=lambda ele:ele[1])\n",
    "    k=5\n",
    "    for p in range(k):\n",
    "        neighbors.append(list1[p][0])\n",
    "\n",
    "    output_values = [row[-1] for row in neighbors]\n",
    "    prediction = max(set(output_values), key=output_values.count) \n",
    "    list2.append(prediction)  \n",
    "print (accuracy_score(label_list, list2))   \n",
    "    "
   ]
  },
  {
   "cell_type": "markdown",
   "metadata": {},
   "source": [
    "# Finding"
   ]
  },
  {
   "cell_type": "markdown",
   "metadata": {},
   "source": [
    "We have reported the accuracy for linear svm with C=10 and knn with K=5 and have found SVM did a slight better job than knn.\n",
    "\n",
    "Accuracy with Linear SVM and C=10 = 0.387\n",
    "Accuracy with Knn with K=5 and distance metrices = Euclidean = 0.3265\n"
   ]
  },
  {
   "cell_type": "markdown",
   "metadata": {},
   "source": [
    "# Lets try to optimize the SVM with some kind of preprocessing"
   ]
  },
  {
   "cell_type": "code",
   "execution_count": null,
   "metadata": {},
   "outputs": [],
   "source": []
  }
 ],
 "metadata": {
  "kernelspec": {
   "display_name": "Python 3",
   "language": "python",
   "name": "python3"
  },
  "language_info": {
   "codemirror_mode": {
    "name": "ipython",
    "version": 3
   },
   "file_extension": ".py",
   "mimetype": "text/x-python",
   "name": "python",
   "nbconvert_exporter": "python",
   "pygments_lexer": "ipython3",
   "version": "3.7.3"
  }
 },
 "nbformat": 4,
 "nbformat_minor": 2
}
